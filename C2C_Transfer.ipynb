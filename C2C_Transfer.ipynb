{
  "nbformat": 4,
  "nbformat_minor": 0,
  "metadata": {
    "colab": {
      "name": "C2C Transfer.ipynb",
      "provenance": [],
      "collapsed_sections": [],
      "include_colab_link": true
    },
    "kernelspec": {
      "name": "python3",
      "display_name": "Python 3"
    }
  },
  "cells": [
    {
      "cell_type": "markdown",
      "metadata": {
        "id": "view-in-github",
        "colab_type": "text"
      },
      "source": [
        "<a href=\"https://colab.research.google.com/github/wyofreeride/c2c-transfer/edit/master/C2C_Transfer.ipynb\" target=\"_parent\"><img src=\"https://colab.research.google.com/assets/colab-badge.svg\" alt=\"Open In Colab\"/></a>"
      ]
    },
    {
      "cell_type": "code",
      "metadata": {
        "id": "V_b5UJR6i-2Q",
        "colab_type": "code",
        "colab": {}
      },
      "source": [
        "#*************************************** README **********************************************\n",
        "# !ipython notebook\n",
        "#\n",
        "# C2C Transfer\n",
        "# [C]loud 2 [C]loud Transfer script for GoogleColab \n",
        "# script by Lawliet_D2C \"Gokup\"--gokupxxxxx@xxx.com--https://github.com/gokupistol\n",
        "# Version: 1.0\n",
        "# Created: 09-24-2019 13:30\n",
        "# Last Modified: 10-25-2019 17:30\n",
        "#\n",
        "#*************************************** NOTES ***********************************************\n",
        "#\n",
        "# To run this you need to have rclone.conf in Google Drive at /content/drive/My Drive/Config/\n",
        "# To install and configure Rclone please visit my github repository.\n",
        "#\n",
        "#**************************************** ***** **********************************************"
      ],
      "execution_count": 0,
      "outputs": []
    },
    {
      "cell_type": "markdown",
      "metadata": {
        "id": "Q3N_96KhkFzq",
        "colab_type": "text"
      },
      "source": [
        "**Mount Google Drive**\n",
        "1.   Run the code and open the link shown in output window.\n",
        "2.   Sign in to your google drive account.\n",
        "3.   Copy and Paste authorization code in white box and press Enter.\n"
      ]
    },
    {
      "cell_type": "code",
      "metadata": {
        "id": "SwSWEDyM_3pf",
        "colab_type": "code",
        "colab": {}
      },
      "source": [
        "from google.colab import drive\n",
        "drive.mount('/content/drive')"
      ],
      "execution_count": 0,
      "outputs": []
    },
    {
      "cell_type": "markdown",
      "metadata": {
        "id": "aohyHFO7nBfi",
        "colab_type": "text"
      },
      "source": [
        "**Install Rclone on Runtime Cloud** \n",
        "\n",
        "*   Simply Run following code\n"
      ]
    },
    {
      "cell_type": "code",
      "metadata": {
        "id": "s6mySd-lAiur",
        "colab_type": "code",
        "colab": {}
      },
      "source": [
        "!curl https://rclone.org/install.sh | sudo bash"
      ],
      "execution_count": 0,
      "outputs": []
    },
    {
      "cell_type": "markdown",
      "metadata": {
        "id": "8xC0seIVnj1T",
        "colab_type": "text"
      },
      "source": [
        "**Copy and replace rclone config file**\n",
        "*   Run following code to get the path and run next to replace rclone.conf of Colab with our configuration file.\n",
        "\n"
      ]
    },
    {
      "cell_type": "code",
      "metadata": {
        "id": "WNhBjFxk93ov",
        "colab_type": "code",
        "colab": {}
      },
      "source": [
        "!rclone config file"
      ],
      "execution_count": 0,
      "outputs": []
    },
    {
      "cell_type": "code",
      "metadata": {
        "id": "OdxdhW8Z1xTs",
        "colab_type": "code",
        "colab": {}
      },
      "source": [
        "!cp /content/drive/My\\ Drive/__GDriveFiles/rclone/rclone.conf /root/.config/rclone/"
      ],
      "execution_count": 0,
      "outputs": []
    },
    {
      "cell_type": "markdown",
      "metadata": {
        "id": "u0R4Sb7toT-I",
        "colab_type": "text"
      },
      "source": [
        "**Check wheather it is working properly:**\n",
        "\n",
        "\n",
        "*   This will give list of cloud storage configured in rclone.conf\n"
      ]
    },
    {
      "cell_type": "code",
      "metadata": {
        "id": "nQo659P8A6PC",
        "colab_type": "code",
        "colab": {}
      },
      "source": [
        "!rclone listremotes"
      ],
      "execution_count": 0,
      "outputs": []
    },
    {
      "cell_type": "code",
      "metadata": {
        "id": "kBDCPTpZmCXF",
        "colab_type": "code",
        "colab": {}
      },
      "source": [
        "#List directories in remote:\n",
        "!rclone lsd gdrive:"
      ],
      "execution_count": 0,
      "outputs": []
    },
    {
      "cell_type": "markdown",
      "metadata": {
        "id": "f__n_Kwso0Cb",
        "colab_type": "text"
      },
      "source": [
        "**Run next command to Copy data from one clud to another**\n",
        "\n",
        "\n",
        "*   Replace \"gdrive\" with your source remote name and Shared with path of folder you want to transfer. \n",
        "*   Replace \"onedrive\" with your destination remote name and Backup with path of folder to where you want to transfer.\n",
        "\n",
        "\n",
        "---\n",
        "\n",
        "\n",
        "\n",
        "Flags details:\n",
        "\n",
        "*   --transfers=N : Number of file transfers to run in parallel. \n",
        "*   --checkers=N : Number of checkers to run in parallel, they do the equality checking of files during a sync.\n",
        "*   --stats=5s --stats-one-line --stats-log-level NOTICE : To display stats of progress.\n",
        "*   -v or --verbose : Will tell you about each file that is transferred.\n",
        "\n",
        "Note: Try to change number of transfers and checkers if transfer rate is slow.\n",
        "\n",
        "For more info visit: https://rclone.org/docs/\n",
        "\n",
        "Examples:\n",
        "\n",
        "* `!rclone copy remote1:path/to/folder/or/file remote2:path/to/folder -v`\n",
        "\n",
        "*   `!rclone copy remote1:path/to/folder/or/file remote2:path/to/folder --transfers=32 --checkers=32 --stats=5s --stats-one-line --stats-log-level NOTICE`\n",
        "\n"
      ]
    },
    {
      "cell_type": "code",
      "metadata": {
        "id": "yUaBZ1m3A_dU",
        "colab_type": "code",
        "colab": {}
      },
      "source": [
        "# rclone copy\n",
        "!rclone copy gdrive:'path_to_folder' onedrive:'path_to_folder' --transfers=32 --checkers=32 --stats=5s --stats-one-line --stats-log-level NOTICE"
      ],
      "execution_count": 0,
      "outputs": []
    },
    {
      "cell_type": "markdown",
      "metadata": {
        "id": "JMJ4T9hsrvTp",
        "colab_type": "text"
      },
      "source": [
        "**Sync data from one clud to another**\n",
        "\n",
        "\n",
        "\n",
        "`!rclone sync remote1:path remote2:path [flags]`\n",
        "\n",
        "The following command sync entire onedrive to dropbox's backup folder.\n",
        "\n",
        "\n",
        "\n",
        "---\n",
        "\n",
        "\n",
        "\n",
        "**Note: Transfer Speed ∝ Number of files and Size of files.**\n",
        "\n",
        "If you have many small files, speed may be slow -> try increasing trackers and checkers.\n",
        "If you have less number of files but huge in size then -> try reducing them.\n",
        "\n",
        "---\n",
        "\n",
        "You can then use team folders like this remote:/TeamFolder and remote:/TeamFolder/path/to/file.\n"
      ]
    },
    {
      "cell_type": "code",
      "metadata": {
        "id": "3uEWSrgqs1zC",
        "colab_type": "code",
        "colab": {}
      },
      "source": [
        "# rclone sync\n",
        "!rclone sync gdrive: dropbox: --transfers=32 --checkers=32 --stats=10s --stats-one-line --stats-log-level NOTICE"
      ],
      "execution_count": 0,
      "outputs": []
    },
    {
      "cell_type": "markdown",
      "metadata": {
        "id": "O5A5x7d1VSTb",
        "colab_type": "text"
      },
      "source": [
        "**Example to download direct links to cloud storage**"
      ]
    },
    {
      "cell_type": "code",
      "metadata": {
        "id": "l57OoLysVRy5",
        "colab_type": "code",
        "colab": {}
      },
      "source": [
        "# rclone copyurl\n",
        "!rclone copyurl 'https://cdn-xxx.com/xxx/url/hits.txt' gdrive:'Download/hits.txt' -v"
      ],
      "execution_count": 0,
      "outputs": []
    },
    {
      "cell_type": "markdown",
      "metadata": {
        "id": "PPCE_B0AWFve",
        "colab_type": "text"
      },
      "source": [
        "Example to move data from google drive to shared drive"
      ]
    },
    {
      "cell_type": "code",
      "metadata": {
        "id": "mXg425ZoWFDf",
        "colab_type": "code",
        "colab": {}
      },
      "source": [
        "#rclone move\n",
        "!rclone move ccsfdrive:asp dropbox:asp --transfers=32 --checkers=32 --stats=60s --stats-one-line --stats-log-level NOTICE"
      ],
      "execution_count": 0,
      "outputs": []
    },
    {
      "cell_type": "markdown",
      "metadata": {
        "id": "cNSLOBEhsDTa",
        "colab_type": "text"
      },
      "source": [
        "**Some useful rclone commands:**\n",
        "\n",
        "* rclone config - Enter an interactive configuration session.\n",
        "* rclone copy - Copy files from source to dest, skipping already copied.\n",
        "* rclone sync - Make source and dest identical, modifying destination only.\n",
        "* rclone move - Move files from source to dest.\n",
        "* rclone delete - Remove the contents of path.\n",
        "* rclone purge - Remove the path and all of its contents.\n",
        "* rclone mkdir - Make the path if it doesn’t already exist.\n",
        "* rclone rmdir - Remove the path.\n",
        "* rclone rmdirs - Remove any empty directories under the path.\n",
        "* rclone check - Check if the files in the source and destination match.\n",
        "* rclone ls - List all the objects in the path with size and path.\n",
        "* rclone lsd - List all directories/containers/buckets in the path.\n",
        "* rclone lsl - List all the objects in the path with size, modification time and path.\n",
        "* rclone about - Get quota information from the remote.\n",
        "\n",
        "For more command info visit: https://rclone.org/docs/"
      ]
    }
  ]
}
